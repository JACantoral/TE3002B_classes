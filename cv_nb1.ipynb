{
 "cells": [
  {
   "cell_type": "code",
   "execution_count": 1,
   "id": "964e9421",
   "metadata": {},
   "outputs": [],
   "source": [
    "import numpy as np\n",
    "import matplotlib.pyplot as plt\n",
    "from skimage.io import imread\n",
    "from skimage.color import rgb2gray, gray2rgb, rgb2grey, rgb2lab, lab2rgb\n",
    "# %matplotlib notebook\n",
    "# %matplotlib inline\n",
    "%matplotlib tk\n",
    "#\n",
    "from jupyterthemes import jtplot\n",
    "jtplot.style()"
   ]
  },
  {
   "cell_type": "markdown",
   "id": "b82ac682",
   "metadata": {},
   "source": [
    "### Load simple image"
   ]
  },
  {
   "cell_type": "code",
   "execution_count": 2,
   "id": "ef735163",
   "metadata": {},
   "outputs": [],
   "source": [
    "lion = imread('images/lion.JPG')\n",
    "lion_grey = rgb2gray(lion)"
   ]
  },
  {
   "cell_type": "code",
   "execution_count": 3,
   "id": "5368536a",
   "metadata": {},
   "outputs": [],
   "source": [
    "plt.figure(figsize=(20,10))\n",
    "plt.subplot(1,2,1)\n",
    "plt.imshow(lion), plt.axis('off')\n",
    "plt.title('Colour lion', size=30)\n",
    "plt.subplot(1,2,2)\n",
    "plt.imshow(lion_grey, cmap=plt.cm.gray), plt.axis('off')\n",
    "plt.title('Grey scale lion', size=30)\n",
    "plt.show()"
   ]
  },
  {
   "cell_type": "code",
   "execution_count": 4,
   "id": "e105450b",
   "metadata": {},
   "outputs": [
    {
     "data": {
      "text/plain": [
       "(480, 640, 3)"
      ]
     },
     "execution_count": 4,
     "metadata": {},
     "output_type": "execute_result"
    }
   ],
   "source": [
    "lion.shape"
   ]
  },
  {
   "cell_type": "code",
   "execution_count": 5,
   "id": "6bcc96e1",
   "metadata": {},
   "outputs": [],
   "source": [
    "# plt.figure(figsize=(20,10))\n",
    "plt.plot(lion_grey[240,:])\n",
    "plt.show()"
   ]
  },
  {
   "cell_type": "code",
   "execution_count": 6,
   "id": "9c96e10a",
   "metadata": {},
   "outputs": [],
   "source": [
    "lion_green = lion[..., 0]\n",
    "plt.figure()\n",
    "plt.imshow(lion_green, cmap=plt.cm.Reds)\n",
    "plt.show()"
   ]
  },
  {
   "cell_type": "markdown",
   "id": "5e5f7785",
   "metadata": {},
   "source": [
    "### Plot peppers"
   ]
  },
  {
   "cell_type": "code",
   "execution_count": 33,
   "id": "de7f89df",
   "metadata": {},
   "outputs": [],
   "source": [
    "peppers = (imread('./images/peppers.png'))\n",
    "plt.figure(figsize=(20,10))\n",
    "\n",
    "plt.subplot(1,4,1)\n",
    "plt.imshow(peppers), plt.axis('off'), plt.title('Peppers in color', size=30)\n",
    "\n",
    "plt.subplot(1,4,2)\n",
    "plt.imshow(peppers[..., 0], cmap=plt.cm.Reds), plt.axis('off'), plt.title('Red channel', size=30)\n",
    "\n",
    "plt.subplot(1,4,3)\n",
    "plt.imshow(peppers[..., 1], cmap=plt.cm.Greens), plt.axis('off'), plt.title('Green channel', size=30)\n",
    "\n",
    "plt.subplot(1,4,4)\n",
    "plt.imshow(peppers[..., 2], cmap=plt.cm.Blues), plt.axis('off'), plt.title('Blue channel', size=30)\n",
    "\n",
    "plt.show()\n"
   ]
  },
  {
   "cell_type": "markdown",
   "id": "e373f8bf",
   "metadata": {},
   "source": [
    "### Merge images"
   ]
  },
  {
   "cell_type": "code",
   "execution_count": 2,
   "id": "67b11579",
   "metadata": {
    "code_folding": [
     0
    ]
   },
   "outputs": [
    {
     "data": {
      "text/plain": [
       "'\\n        img.set_data(aux)\\n        f1.canvas.draw_idle()\\n        plt.pause(p)\\n'"
      ]
     },
     "execution_count": 2,
     "metadata": {},
     "output_type": "execute_result"
    }
   ],
   "source": [
    "def merge_images(img1, img2, N, p):\n",
    "#     %matplotlib tk\n",
    "    f1, ax1 = plt.subplots(1,1)\n",
    "    img = ax1.imshow(img2, cmap=plt.cm.gray)\n",
    "\n",
    "    N = 10\n",
    "    for i in range(N+1):\n",
    "        aux = i/N * img1 + (1-i/N) * img2\n",
    "        img.set_data(aux)\n",
    "        f1.canvas.draw_idle()\n",
    "        plt.pause(p)\n",
    "'''\n",
    "        img.set_data(aux)\n",
    "        f1.canvas.draw_idle()\n",
    "        plt.pause(p)\n",
    "'''"
   ]
  },
  {
   "cell_type": "code",
   "execution_count": 6,
   "id": "efa65a08",
   "metadata": {},
   "outputs": [],
   "source": [
    "bill = rgb2gray(imread('images/billface.jpg'))\n",
    "steve = rgb2gray(imread('images/steve.jpg'))\n",
    "\n",
    "merge_images(steve, bill, 10, 0.5)\n",
    "    "
   ]
  },
  {
   "cell_type": "code",
   "execution_count": null,
   "id": "f9801406",
   "metadata": {},
   "outputs": [],
   "source": []
  }
 ],
 "metadata": {
  "kernelspec": {
   "display_name": "Python 3 (ipykernel)",
   "language": "python",
   "name": "python3"
  },
  "language_info": {
   "codemirror_mode": {
    "name": "ipython",
    "version": 3
   },
   "file_extension": ".py",
   "mimetype": "text/x-python",
   "name": "python",
   "nbconvert_exporter": "python",
   "pygments_lexer": "ipython3",
   "version": "3.9.7"
  }
 },
 "nbformat": 4,
 "nbformat_minor": 5
}
