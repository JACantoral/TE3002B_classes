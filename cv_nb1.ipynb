{
 "cells": [
  {
   "cell_type": "markdown",
   "id": "01ebdf20",
   "metadata": {},
   "source": [
    "## TE3002B Feb-Jun 2022\n",
    "Class example"
   ]
  },
  {
   "cell_type": "code",
   "execution_count": 1,
   "id": "964e9421",
   "metadata": {},
   "outputs": [],
   "source": [
    "import numpy as np\n",
    "import matplotlib.pyplot as plt\n",
    "from skimage.io import imread\n",
    "from skimage.color import rgb2gray, gray2rgb, rgb2grey, rgb2lab, lab2rgb\n",
    "# %matplotlib notebook\n",
    "# %matplotlib inline\n",
    "%matplotlib tk\n",
    "#\n",
    "from jupyterthemes import jtplot\n",
    "jtplot.style()"
   ]
  },
  {
   "cell_type": "code",
   "execution_count": 2,
   "id": "5220a048",
   "metadata": {},
   "outputs": [],
   "source": [
    "plots = lambda rows=1, cols = 1, figsize=(20,10): plt.subplots(rows, cols, figsize=figsize)"
   ]
  },
  {
   "cell_type": "markdown",
   "id": "b82ac682",
   "metadata": {},
   "source": [
    "### Load simple image"
   ]
  },
  {
   "cell_type": "code",
   "execution_count": 3,
   "id": "ef735163",
   "metadata": {},
   "outputs": [],
   "source": [
    "lion = imread('images/lion.JPG')\n",
    "lion_grey = rgb2gray(lion)"
   ]
  },
  {
   "cell_type": "code",
   "execution_count": 4,
   "id": "5de800ba",
   "metadata": {},
   "outputs": [],
   "source": [
    "f1, (ax1, ax2) = plots(1,2)\n",
    "ax1.imshow(lion), ax1.axis('off'), ax1.set_title('Colour lion', size=30)\n",
    "ax2.imshow(lion_grey, cmap=plt.cm.gray), ax2.axis('off'), ax2.set_title('Greyscale lion', size=30)\n",
    "plt.show()"
   ]
  },
  {
   "cell_type": "code",
   "execution_count": 5,
   "id": "e105450b",
   "metadata": {},
   "outputs": [
    {
     "data": {
      "text/plain": [
       "(480, 640, 3)"
      ]
     },
     "execution_count": 5,
     "metadata": {},
     "output_type": "execute_result"
    }
   ],
   "source": [
    "lion.shape"
   ]
  },
  {
   "cell_type": "code",
   "execution_count": 6,
   "id": "6bcc96e1",
   "metadata": {},
   "outputs": [],
   "source": [
    "# plt.figure(figsize=(20,10))\n",
    "plt.plot(lion_grey[240,:])\n",
    "plt.show()"
   ]
  },
  {
   "cell_type": "code",
   "execution_count": 7,
   "id": "9c96e10a",
   "metadata": {},
   "outputs": [],
   "source": [
    "lion_green = lion[..., 0]\n",
    "plt.figure()\n",
    "plt.imshow(lion_green, cmap=plt.cm.Reds)\n",
    "plt.show()"
   ]
  },
  {
   "cell_type": "markdown",
   "id": "5e5f7785",
   "metadata": {},
   "source": [
    "### Plot peppers"
   ]
  },
  {
   "cell_type": "code",
   "execution_count": 9,
   "id": "c9fe13ed",
   "metadata": {},
   "outputs": [],
   "source": [
    "peppers = (imread('./images/peppers.png'))"
   ]
  },
  {
   "cell_type": "code",
   "execution_count": 10,
   "id": "c45bfa38",
   "metadata": {},
   "outputs": [],
   "source": [
    "f2, (ax1, ax2, ax3, ax4) = plots(1, 4)\n",
    "ax1.imshow(peppers), ax1.axis('off'), ax1.set_title('Peppers in color', size=30)\n",
    "ax2.imshow(peppers[..., 0], cmap=plt.cm.Reds), ax2.axis('off'), ax2.set_title('Peppers in color', size=30)\n",
    "ax3.imshow(peppers[..., 1], cmap=plt.cm.Greens), ax3.axis('off'), ax3.set_title('Peppers in color', size=30)\n",
    "ax4.imshow(peppers[...,2], cmap=plt.cm.Blues), ax4.axis('off'), ax4.set_title('Peppers in color', size=30)\n",
    "plt.show()"
   ]
  },
  {
   "cell_type": "markdown",
   "id": "e373f8bf",
   "metadata": {},
   "source": [
    "### Merge images"
   ]
  },
  {
   "cell_type": "code",
   "execution_count": 15,
   "id": "67b11579",
   "metadata": {
    "code_folding": []
   },
   "outputs": [
    {
     "data": {
      "text/plain": [
       "'\\n        img.set_data(aux)\\n        f1.canvas.draw_idle()\\n        plt.pause(p)\\n'"
      ]
     },
     "execution_count": 15,
     "metadata": {},
     "output_type": "execute_result"
    }
   ],
   "source": [
    "def merge_images(img1, img2, N, p):\n",
    "#     %matplotlib tk\n",
    "    f1, ax1 = plt.subplots(1,1)\n",
    "    img = ax1.imshow(img2, cmap=plt.cm.gray)\n",
    "\n",
    "    N = 10\n",
    "    for i in range(N+1):\n",
    "        aux = i/N * img1 + (1-i/N) * img2\n",
    "        img.set_data(aux)\n",
    "        f1.canvas.draw_idle()\n",
    "        plt.pause(p)\n",
    "'''\n",
    "        img.set_data(aux)\n",
    "        f1.canvas.draw_idle()\n",
    "        plt.pause(p)\n",
    "'''"
   ]
  },
  {
   "cell_type": "code",
   "execution_count": 16,
   "id": "efa65a08",
   "metadata": {},
   "outputs": [],
   "source": [
    "bill = rgb2gray(imread('images/billface.jpg'))\n",
    "steve = rgb2gray(imread('images/steve.jpg'))\n",
    "\n",
    "merge_images(steve, bill, 10, 0.5)\n",
    "    "
   ]
  },
  {
   "cell_type": "code",
   "execution_count": null,
   "id": "f9801406",
   "metadata": {},
   "outputs": [],
   "source": []
  }
 ],
 "metadata": {
  "kernelspec": {
   "display_name": "Python 3 (ipykernel)",
   "language": "python",
   "name": "python3"
  },
  "language_info": {
   "codemirror_mode": {
    "name": "ipython",
    "version": 3
   },
   "file_extension": ".py",
   "mimetype": "text/x-python",
   "name": "python",
   "nbconvert_exporter": "python",
   "pygments_lexer": "ipython3",
   "version": "3.9.0"
  },
  "toc": {
   "base_numbering": 1,
   "nav_menu": {},
   "number_sections": true,
   "sideBar": true,
   "skip_h1_title": false,
   "title_cell": "Table of Contents",
   "title_sidebar": "Contents",
   "toc_cell": false,
   "toc_position": {},
   "toc_section_display": true,
   "toc_window_display": false
  },
  "varInspector": {
   "cols": {
    "lenName": 16,
    "lenType": 16,
    "lenVar": 40
   },
   "kernels_config": {
    "python": {
     "delete_cmd_postfix": "",
     "delete_cmd_prefix": "del ",
     "library": "var_list.py",
     "varRefreshCmd": "print(var_dic_list())"
    },
    "r": {
     "delete_cmd_postfix": ") ",
     "delete_cmd_prefix": "rm(",
     "library": "var_list.r",
     "varRefreshCmd": "cat(var_dic_list()) "
    }
   },
   "types_to_exclude": [
    "module",
    "function",
    "builtin_function_or_method",
    "instance",
    "_Feature"
   ],
   "window_display": false
  }
 },
 "nbformat": 4,
 "nbformat_minor": 5
}
